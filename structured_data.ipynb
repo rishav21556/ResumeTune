{
  "nbformat": 4,
  "nbformat_minor": 0,
  "metadata": {
    "colab": {
      "provenance": []
    },
    "kernelspec": {
      "name": "python3",
      "display_name": "Python 3"
    },
    "language_info": {
      "name": "python"
    }
  },
  "cells": [
    {
      "cell_type": "code",
      "execution_count": 29,
      "metadata": {
        "id": "bG4p0xzjZ-II"
      },
      "outputs": [],
      "source": [
        "!pip install -q pdfquery\n",
        "!pip install -q PyPDF2\n",
        "!pip install -q openai\n",
        "!pip install -q python-dotenv"
      ]
    },
    {
      "cell_type": "code",
      "source": [
        "import pandas as pd\n",
        "import pdfquery\n",
        "from pdfquery import PDFQuery\n",
        "import PyPDF2\n",
        "import re\n",
        "import os\n",
        "import openai\n",
        "from dotenv import load_dotenv"
      ],
      "metadata": {
        "id": "vh8h9UhaaIfQ"
      },
      "execution_count": 30,
      "outputs": []
    },
    {
      "cell_type": "code",
      "source": [
        "from google.colab import drive\n",
        "drive.mount('/content/drive')"
      ],
      "metadata": {
        "colab": {
          "base_uri": "https://localhost:8080/"
        },
        "id": "jJy6-FGo5PEV",
        "outputId": "839e5a63-2e5b-45de-bdcc-366e246effef"
      },
      "execution_count": 24,
      "outputs": [
        {
          "output_type": "stream",
          "name": "stdout",
          "text": [
            "Drive already mounted at /content/drive; to attempt to forcibly remount, call drive.mount(\"/content/drive\", force_remount=True).\n"
          ]
        }
      ]
    },
    {
      "cell_type": "code",
      "source": [
        "folder_path = '/content/drive/MyDrive/LLM_RESUME_DATA/All Resumes/'"
      ],
      "metadata": {
        "id": "h-7RP80p59kB"
      },
      "execution_count": 25,
      "outputs": []
    },
    {
      "cell_type": "code",
      "source": [
        "load_dotenv('/content/config.env')"
      ],
      "metadata": {
        "colab": {
          "base_uri": "https://localhost:8080/"
        },
        "id": "J7NbPvJX4bsy",
        "outputId": "c4136c38-cadf-4123-d1e9-9176eaec3b56"
      },
      "execution_count": 35,
      "outputs": [
        {
          "output_type": "execute_result",
          "data": {
            "text/plain": [
              "True"
            ]
          },
          "metadata": {},
          "execution_count": 35
        }
      ]
    },
    {
      "cell_type": "code",
      "source": [
        "\n",
        "def extract_text_from_pdf(file_path):\n",
        "  with open(file_path, 'rb') as file:\n",
        "      reader = PyPDF2.PdfReader(file)\n",
        "      text = ''\n",
        "      for page in reader.pages:\n",
        "          text += page.extract_text()\n",
        "      return text\n",
        "def clean_text(text):\n",
        "  # Remove extra spaces, newlines, and special characters\n",
        "  cleaned_text = re.sub(r'\\s+', ' ', text)\n",
        "  return cleaned_text.lower()\n",
        "\n",
        "def extract_sections(text):\n",
        "  client = openai.OpenAI(\n",
        "    api_key=os.getenv('TOGETHER_API'),\n",
        "    base_url=\"https://api.together.xyz/v1\",\n",
        "  )\n",
        "\n",
        "  response = client.chat.completions.create(\n",
        "    model=\"meta-llama/Llama-3-70b-chat-hf\",\n",
        "    messages=[\n",
        "      {\"role\": \"system\", \"content\": '''You are a system that structure the resume in following sections. Introduction, Work_Experience, Skills, Project, Achievements, Hobbies and Additional_Info. Use following tags for structing the information:\n",
        "      1. <Introduction> </Introduction>\n",
        "      2. <Work_Experience> <Place> </Place> <Work_Experience>\n",
        "      3. <Skills> <list> </list> </Skills>\n",
        "      4. <Project> <title> </title> </Description> </Project>\n",
        "      5. <Achievement> <list> </list> </Achievement>\n",
        "      6. <Hobbies> <list> </list> </Hobbies>\n",
        "      7. <Additonal_info> </Additional_info>\n",
        "      '''},\n",
        "      {\"role\": \"user\", \"content\": f\"{text}\"},\n",
        "    ]\n",
        "  )\n",
        "\n",
        "  answer = str(response.choices[0].message.content)\n",
        "  return answer\n"
      ],
      "metadata": {
        "id": "nSEzid_Tn2zb"
      },
      "execution_count": 36,
      "outputs": []
    },
    {
      "cell_type": "code",
      "source": [
        "def create_structured_resume(folder_path):\n",
        "  # listing all the folders in the 'All Resume' folder\n",
        "  folders_in_all_resume = [f for f in os.listdir(folder_path)]\n",
        "  total_resume_count = 0\n",
        "  for folder in folders_in_all_resume:\n",
        "    nested_folder_path = folder_path + f'{folder}/'\n",
        "    for nested_folder in os.listdir(nested_folder_path):\n",
        "      if (nested_folder == \"resumes\"):\n",
        "        nested_resume_folder_path = nested_folder_path + f'resumes/'\n",
        "        for resume in os.listdir(nested_resume_folder_path):\n",
        "          # check if the resume is in the pdf format\n",
        "          if (resume[-4:]=='.pdf'):\n",
        "            # if (total_resume_count > 944):\n",
        "            try:\n",
        "              extract_text = extract_text_from_pdf(nested_resume_folder_path+resume)\n",
        "              cleaned_text = clean_text(extract_text)\n",
        "              extracted_sections = extract_sections(cleaned_text)\n",
        "\n",
        "              to_save_file = '/content/drive/MyDrive/LLM_RESUME_DATA/' + f\"structured_resume/{total_resume_count}.txt\"\n",
        "\n",
        "              # Open the file in write mode and write the content to the file\n",
        "              with open(to_save_file, 'w') as file:\n",
        "                file.write(extracted_sections)\n",
        "            except Exception as e:\n",
        "              pass\n",
        "\n",
        "            total_resume_count += 1\n",
        "\n",
        "\n",
        "  print(f'Total number of resumes: {total_resume_count}')\n",
        "  print(\"Done :)\")"
      ],
      "metadata": {
        "id": "YpkIO4-W96jQ"
      },
      "execution_count": 41,
      "outputs": []
    },
    {
      "cell_type": "code",
      "source": [
        "create_structured_resume(folder_path)"
      ],
      "metadata": {
        "colab": {
          "base_uri": "https://localhost:8080/"
        },
        "id": "xWPF7osq1YIY",
        "outputId": "fa001046-2b75-4c2b-bdf0-94dbd0609206"
      },
      "execution_count": 42,
      "outputs": [
        {
          "output_type": "stream",
          "name": "stdout",
          "text": [
            "Total number of resumes: 2048\n",
            "Done :)\n"
          ]
        }
      ]
    }
  ]
}